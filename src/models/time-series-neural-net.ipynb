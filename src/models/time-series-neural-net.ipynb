{
 "cells": [
  {
   "cell_type": "code",
   "execution_count": 1,
   "metadata": {},
   "outputs": [],
   "source": [
    "%load_ext autoreload\n",
    "%autoreload 2\n",
    "%matplotlib inline"
   ]
  },
  {
   "cell_type": "code",
   "execution_count": 2,
   "metadata": {},
   "outputs": [],
   "source": [
    "import pandas as pd\n",
    "import pandas_profiling\n",
    "\n",
    "import numpy as np\n",
    "\n",
    "import seaborn as sns\n",
    "sns.set()\n",
    "\n",
    "import plotly.plotly as py\n",
    "import plotly.graph_objs as go\n",
    "\n",
    "import matplotlib.pyplot as plt"
   ]
  },
  {
   "cell_type": "code",
   "execution_count": 3,
   "metadata": {},
   "outputs": [],
   "source": [
    "data = pd.read_csv(\"../../data/Sales_Multiseries_training.csv\")"
   ]
  },
  {
   "cell_type": "code",
   "execution_count": 4,
   "metadata": {},
   "outputs": [
    {
     "data": {
      "text/plain": [
       "714"
      ]
     },
     "execution_count": 4,
     "metadata": {},
     "output_type": "execute_result"
    }
   ],
   "source": [
    "# lets bring in the the week when the sale happened\n",
    "data[\"date_\"] = pd.to_datetime(arg=data.Date)\n",
    "sav_data = data[data.Store == \"Savannah\"]\n",
    "len(sav_data)"
   ]
  },
  {
   "cell_type": "code",
   "execution_count": 5,
   "metadata": {},
   "outputs": [
    {
     "data": {
      "text/plain": [
       "Timestamp('2012-07-01 00:00:00')"
      ]
     },
     "execution_count": 5,
     "metadata": {},
     "output_type": "execute_result"
    }
   ],
   "source": [
    "# lets bring in the the week when the sale happened\n",
    "min(sav_data[\"date_\"])"
   ]
  },
  {
   "cell_type": "code",
   "execution_count": 6,
   "metadata": {},
   "outputs": [
    {
     "data": {
      "text/plain": [
       "Timestamp('2014-06-14 00:00:00')"
      ]
     },
     "execution_count": 6,
     "metadata": {},
     "output_type": "execute_result"
    }
   ],
   "source": [
    "max(sav_data[\"date_\"])"
   ]
  },
  {
   "cell_type": "code",
   "execution_count": 7,
   "metadata": {
    "slideshow": {
     "slide_type": "slide"
    }
   },
   "outputs": [
    {
     "data": {
      "text/html": [
       "<iframe id=\"igraph\" scrolling=\"no\" style=\"border:none;\" seamless=\"seamless\" src=\"https://plot.ly/~srjit/222.embed\" height=\"525px\" width=\"100%\"></iframe>"
      ],
      "text/plain": [
       "<plotly.tools.PlotlyDisplay object>"
      ]
     },
     "execution_count": 7,
     "metadata": {},
     "output_type": "execute_result"
    }
   ],
   "source": [
    "data = [go.Scatter(x=sav_data[\"date_\"], y=sav_data[\"Sales\"], line = dict(color = '#17BECF'))]\n",
    "\n",
    "layout = dict(\n",
    "    title = \"Sales - Savannah\",\n",
    "    xaxis = dict(\n",
    "        range = ['2012-07-01','2014-06-14'])\n",
    ")\n",
    "\n",
    "fig = dict(data=data, layout=layout)\n",
    "\n",
    "py.iplot(data, filename = 'time-series-simple')"
   ]
  },
  {
   "cell_type": "code",
   "execution_count": 8,
   "metadata": {},
   "outputs": [],
   "source": [
    "# 600 rows to train # 214 rows to test\n",
    "data_to_process = sav_data.iloc[:,2:3].values\n",
    "train = data_to_process[:600]\n",
    "test = data_to_process[601:]"
   ]
  },
  {
   "cell_type": "code",
   "execution_count": 10,
   "metadata": {},
   "outputs": [],
   "source": [
    "#train.head(10)"
   ]
  },
  {
   "cell_type": "code",
   "execution_count": 11,
   "metadata": {},
   "outputs": [],
   "source": [
    "from sklearn.preprocessing import MinMaxScaler\n",
    "sc = MinMaxScaler(feature_range = (0, 1))\n",
    "\n",
    "training_set_scaled = sc.fit_transform(train)"
   ]
  },
  {
   "cell_type": "code",
   "execution_count": 12,
   "metadata": {},
   "outputs": [],
   "source": [
    "# Creating a data structure with 7 timesteps and t+1 output\n",
    "\n",
    "X_train = []\n",
    "y_train = []\n",
    "for i in range(7, 600):\n",
    "    X_train.append(training_set_scaled[i-7:i, 0])\n",
    "    y_train.append(training_set_scaled[i, 0])\n",
    "X_train, y_train = np.array(X_train), np.array(y_train)"
   ]
  },
  {
   "cell_type": "code",
   "execution_count": 13,
   "metadata": {},
   "outputs": [],
   "source": [
    "X_train = np.reshape(X_train, (X_train.shape[0], X_train.shape[1], 1))\n"
   ]
  },
  {
   "cell_type": "code",
   "execution_count": 14,
   "metadata": {},
   "outputs": [
    {
     "name": "stderr",
     "output_type": "stream",
     "text": [
      "Using TensorFlow backend.\n"
     ]
    }
   ],
   "source": [
    "from keras.models import Sequential\n",
    "from keras.layers import Dense\n",
    "from keras.layers import LSTM"
   ]
  },
  {
   "cell_type": "code",
   "execution_count": 15,
   "metadata": {},
   "outputs": [
    {
     "name": "stdout",
     "output_type": "stream",
     "text": [
      "Epoch 1/100\n",
      "593/593 [==============================] - 6s 10ms/step - loss: 0.1648\n",
      "Epoch 2/100\n",
      "593/593 [==============================] - 0s 368us/step - loss: 0.1133\n",
      "Epoch 3/100\n",
      "593/593 [==============================] - 0s 370us/step - loss: 0.0718\n",
      "Epoch 4/100\n",
      "593/593 [==============================] - 0s 358us/step - loss: 0.0390\n",
      "Epoch 5/100\n",
      "593/593 [==============================] - 0s 371us/step - loss: 0.0182\n",
      "Epoch 6/100\n",
      "593/593 [==============================] - 0s 376us/step - loss: 0.0109\n",
      "Epoch 7/100\n",
      "593/593 [==============================] - 0s 385us/step - loss: 0.0106\n",
      "Epoch 8/100\n",
      "593/593 [==============================] - 0s 388us/step - loss: 0.0104\n",
      "Epoch 9/100\n",
      "593/593 [==============================] - 0s 449us/step - loss: 0.0103\n",
      "Epoch 10/100\n",
      "593/593 [==============================] - 0s 398us/step - loss: 0.0101\n",
      "Epoch 11/100\n",
      "593/593 [==============================] - 0s 376us/step - loss: 0.0100\n",
      "Epoch 12/100\n",
      "593/593 [==============================] - 0s 380us/step - loss: 0.0099\n",
      "Epoch 13/100\n",
      "593/593 [==============================] - 0s 403us/step - loss: 0.0097\n",
      "Epoch 14/100\n",
      "593/593 [==============================] - 0s 380us/step - loss: 0.0096\n",
      "Epoch 15/100\n",
      "593/593 [==============================] - 0s 362us/step - loss: 0.0095\n",
      "Epoch 16/100\n",
      "593/593 [==============================] - 0s 353us/step - loss: 0.0093\n",
      "Epoch 17/100\n",
      "593/593 [==============================] - 0s 398us/step - loss: 0.0092\n",
      "Epoch 18/100\n",
      "593/593 [==============================] - 0s 385us/step - loss: 0.0091\n",
      "Epoch 19/100\n",
      "593/593 [==============================] - 0s 386us/step - loss: 0.0089\n",
      "Epoch 20/100\n",
      "593/593 [==============================] - 0s 364us/step - loss: 0.0088\n",
      "Epoch 21/100\n",
      "593/593 [==============================] - 0s 382us/step - loss: 0.0087\n",
      "Epoch 22/100\n",
      "593/593 [==============================] - 0s 417us/step - loss: 0.0085\n",
      "Epoch 23/100\n",
      "593/593 [==============================] - 0s 367us/step - loss: 0.0084\n",
      "Epoch 24/100\n",
      "593/593 [==============================] - 0s 383us/step - loss: 0.0083\n",
      "Epoch 25/100\n",
      "593/593 [==============================] - 0s 370us/step - loss: 0.0082\n",
      "Epoch 26/100\n",
      "593/593 [==============================] - 0s 411us/step - loss: 0.0081\n",
      "Epoch 27/100\n",
      "593/593 [==============================] - 0s 384us/step - loss: 0.0079\n",
      "Epoch 28/100\n",
      "593/593 [==============================] - 0s 374us/step - loss: 0.0078\n",
      "Epoch 29/100\n",
      "593/593 [==============================] - 0s 369us/step - loss: 0.0077\n",
      "Epoch 30/100\n",
      "593/593 [==============================] - 0s 381us/step - loss: 0.0076\n",
      "Epoch 31/100\n",
      "593/593 [==============================] - 0s 431us/step - loss: 0.0075\n",
      "Epoch 32/100\n",
      "593/593 [==============================] - 0s 364us/step - loss: 0.0074\n",
      "Epoch 33/100\n",
      "593/593 [==============================] - 0s 347us/step - loss: 0.0073\n",
      "Epoch 34/100\n",
      "593/593 [==============================] - 0s 377us/step - loss: 0.0072\n",
      "Epoch 35/100\n",
      "593/593 [==============================] - 0s 385us/step - loss: 0.0071\n",
      "Epoch 36/100\n",
      "593/593 [==============================] - 0s 388us/step - loss: 0.0070\n",
      "Epoch 37/100\n",
      "593/593 [==============================] - 0s 389us/step - loss: 0.0070\n",
      "Epoch 38/100\n",
      "593/593 [==============================] - 0s 381us/step - loss: 0.0069\n",
      "Epoch 39/100\n",
      "593/593 [==============================] - 0s 413us/step - loss: 0.0069\n",
      "Epoch 40/100\n",
      "593/593 [==============================] - 0s 397us/step - loss: 0.0068\n",
      "Epoch 41/100\n",
      "593/593 [==============================] - 0s 365us/step - loss: 0.0067\n",
      "Epoch 42/100\n",
      "593/593 [==============================] - 0s 357us/step - loss: 0.0067\n",
      "Epoch 43/100\n",
      "593/593 [==============================] - 0s 376us/step - loss: 0.0067\n",
      "Epoch 44/100\n",
      "593/593 [==============================] - 0s 422us/step - loss: 0.0066\n",
      "Epoch 45/100\n",
      "593/593 [==============================] - 0s 366us/step - loss: 0.0066\n",
      "Epoch 46/100\n",
      "593/593 [==============================] - 0s 375us/step - loss: 0.0066\n",
      "Epoch 47/100\n",
      "593/593 [==============================] - 0s 350us/step - loss: 0.0065\n",
      "Epoch 48/100\n",
      "593/593 [==============================] - 0s 388us/step - loss: 0.0065\n",
      "Epoch 49/100\n",
      "593/593 [==============================] - 0s 370us/step - loss: 0.0065\n",
      "Epoch 50/100\n",
      "593/593 [==============================] - 0s 369us/step - loss: 0.0065\n",
      "Epoch 51/100\n",
      "593/593 [==============================] - 0s 371us/step - loss: 0.0065\n",
      "Epoch 52/100\n",
      "593/593 [==============================] - 0s 361us/step - loss: 0.0064\n",
      "Epoch 53/100\n",
      "593/593 [==============================] - 0s 464us/step - loss: 0.0064\n",
      "Epoch 54/100\n",
      "593/593 [==============================] - 0s 375us/step - loss: 0.0064\n",
      "Epoch 55/100\n",
      "593/593 [==============================] - 0s 375us/step - loss: 0.0064\n",
      "Epoch 56/100\n",
      "593/593 [==============================] - 0s 373us/step - loss: 0.0064\n",
      "Epoch 57/100\n",
      "593/593 [==============================] - 0s 424us/step - loss: 0.0063\n",
      "Epoch 58/100\n",
      "593/593 [==============================] - 0s 365us/step - loss: 0.0064\n",
      "Epoch 59/100\n",
      "593/593 [==============================] - 0s 365us/step - loss: 0.0063\n",
      "Epoch 60/100\n",
      "593/593 [==============================] - 0s 382us/step - loss: 0.0063\n",
      "Epoch 61/100\n",
      "593/593 [==============================] - 0s 410us/step - loss: 0.0063\n",
      "Epoch 62/100\n",
      "593/593 [==============================] - 0s 368us/step - loss: 0.0063\n",
      "Epoch 63/100\n",
      "593/593 [==============================] - 0s 387us/step - loss: 0.0064\n",
      "Epoch 64/100\n",
      "593/593 [==============================] - 0s 362us/step - loss: 0.0064\n",
      "Epoch 65/100\n",
      "593/593 [==============================] - 0s 379us/step - loss: 0.0063\n",
      "Epoch 66/100\n",
      "593/593 [==============================] - 0s 421us/step - loss: 0.0063\n",
      "Epoch 67/100\n",
      "593/593 [==============================] - 0s 371us/step - loss: 0.0063\n",
      "Epoch 68/100\n",
      "593/593 [==============================] - 0s 375us/step - loss: 0.0063\n",
      "Epoch 69/100\n",
      "593/593 [==============================] - 0s 356us/step - loss: 0.0062\n",
      "Epoch 70/100\n",
      "593/593 [==============================] - 0s 401us/step - loss: 0.0063\n",
      "Epoch 71/100\n",
      "593/593 [==============================] - 0s 375us/step - loss: 0.0062\n",
      "Epoch 72/100\n",
      "593/593 [==============================] - 0s 372us/step - loss: 0.0063\n",
      "Epoch 73/100\n",
      "593/593 [==============================] - 0s 371us/step - loss: 0.0062\n",
      "Epoch 74/100\n",
      "593/593 [==============================] - 0s 388us/step - loss: 0.0062\n",
      "Epoch 75/100\n",
      "593/593 [==============================] - 0s 493us/step - loss: 0.0062\n",
      "Epoch 76/100\n",
      "593/593 [==============================] - 0s 382us/step - loss: 0.0062\n",
      "Epoch 77/100\n",
      "593/593 [==============================] - 0s 368us/step - loss: 0.0062\n",
      "Epoch 78/100\n",
      "593/593 [==============================] - 0s 390us/step - loss: 0.0062\n",
      "Epoch 79/100\n",
      "593/593 [==============================] - 0s 406us/step - loss: 0.0062\n",
      "Epoch 80/100\n",
      "593/593 [==============================] - 0s 384us/step - loss: 0.0062\n",
      "Epoch 81/100\n",
      "593/593 [==============================] - 0s 370us/step - loss: 0.0061\n",
      "Epoch 82/100\n",
      "593/593 [==============================] - 0s 366us/step - loss: 0.0061\n",
      "Epoch 83/100\n",
      "593/593 [==============================] - 0s 401us/step - loss: 0.0061\n",
      "Epoch 84/100\n",
      "593/593 [==============================] - 0s 355us/step - loss: 0.0061\n",
      "Epoch 85/100\n",
      "593/593 [==============================] - 0s 397us/step - loss: 0.0061\n",
      "Epoch 86/100\n",
      "593/593 [==============================] - 0s 413us/step - loss: 0.0061\n",
      "Epoch 87/100\n",
      "593/593 [==============================] - 0s 458us/step - loss: 0.0061\n",
      "Epoch 88/100\n",
      "593/593 [==============================] - 0s 353us/step - loss: 0.0062\n",
      "Epoch 89/100\n",
      "593/593 [==============================] - 0s 367us/step - loss: 0.0061\n",
      "Epoch 90/100\n",
      "593/593 [==============================] - 0s 385us/step - loss: 0.0062\n",
      "Epoch 91/100\n",
      "593/593 [==============================] - 0s 376us/step - loss: 0.0062\n",
      "Epoch 92/100\n",
      "593/593 [==============================] - 0s 394us/step - loss: 0.0061\n",
      "Epoch 93/100\n",
      "593/593 [==============================] - 0s 353us/step - loss: 0.0061\n",
      "Epoch 94/100\n",
      "593/593 [==============================] - 0s 348us/step - loss: 0.0061\n",
      "Epoch 95/100\n",
      "593/593 [==============================] - 0s 399us/step - loss: 0.0061\n",
      "Epoch 96/100\n",
      "593/593 [==============================] - 0s 433us/step - loss: 0.0060\n",
      "Epoch 97/100\n"
     ]
    },
    {
     "name": "stdout",
     "output_type": "stream",
     "text": [
      "593/593 [==============================] - 0s 366us/step - loss: 0.0060\n",
      "Epoch 98/100\n",
      "593/593 [==============================] - 0s 391us/step - loss: 0.0061\n",
      "Epoch 99/100\n",
      "593/593 [==============================] - 0s 370us/step - loss: 0.0060\n",
      "Epoch 100/100\n",
      "593/593 [==============================] - 0s 409us/step - loss: 0.0061\n"
     ]
    }
   ],
   "source": [
    "regressor = Sequential()\n",
    "regressor.add(LSTM(units = 5, input_shape = (None, 1)))\n",
    "regressor.add(Dense(units = 1))\n",
    "regressor.compile(optimizer = 'adam', loss = 'mean_squared_error')\n",
    "history = regressor.fit(X_train, y_train, epochs = 100, batch_size = 32)"
   ]
  },
  {
   "cell_type": "code",
   "execution_count": 16,
   "metadata": {},
   "outputs": [],
   "source": [
    "test = sc.fit_transform(test)\n",
    "test_full = np.concatenate((train[0:600], test), axis = 0)"
   ]
  },
  {
   "cell_type": "code",
   "execution_count": 17,
   "metadata": {},
   "outputs": [],
   "source": [
    "inputs = []\n",
    "for i in range(601, 714):\n",
    "    inputs.append(test_full[i-7:i, 0])\n",
    "    \n",
    "inputs = np.array(inputs)\n",
    "inputs = np.reshape(inputs, (inputs.shape[0], inputs.shape[1], 1))\n",
    "predicted = regressor.predict(inputs)\n",
    "predicted_price = sc.inverse_transform(predicted)"
   ]
  },
  {
   "cell_type": "code",
   "execution_count": 18,
   "metadata": {},
   "outputs": [
    {
     "data": {
      "text/plain": [
       "Timestamp('2014-06-14 00:00:00')"
      ]
     },
     "execution_count": 18,
     "metadata": {},
     "output_type": "execute_result"
    }
   ],
   "source": [
    "max(sav_data[\"date_\"][600:])"
   ]
  },
  {
   "cell_type": "code",
   "execution_count": 20,
   "metadata": {},
   "outputs": [
    {
     "data": {
      "text/html": [
       "<iframe id=\"igraph\" scrolling=\"no\" style=\"border:none;\" seamless=\"seamless\" src=\"https://plot.ly/~srjit/224.embed\" height=\"525px\" width=\"100%\"></iframe>"
      ],
      "text/plain": [
       "<plotly.tools.PlotlyDisplay object>"
      ]
     },
     "execution_count": 20,
     "metadata": {},
     "output_type": "execute_result"
    }
   ],
   "source": [
    "data_actual = go.Scatter(x=sav_data[\"date_\"][601:], \n",
    "                         y=test_full[600:], \n",
    "                         line = dict(color = '#0B6623'),\n",
    "                         name=\"Actual\")\n",
    "data_pred = go.Scatter(x=sav_data[\"date_\"][601:], \n",
    "                       y=predicted_price, \n",
    "                       line = dict(color = '#B22222'), \n",
    "                       name = \"Predicted\")\n",
    "\n",
    "layout = dict(\n",
    "    title = \"Sales - Savannah\",\n",
    "    xaxis = dict(\n",
    "        range = ['2014-02-21','2014-06-14'])\n",
    ")\n",
    "\n",
    "data_final = [data_actual, data_pred]\n",
    "\n",
    "fig = dict(data=data_final, layout=layout)\n",
    "py.iplot(fig, filename = 'Actual vs Predicted')"
   ]
  },
  {
   "cell_type": "code",
   "execution_count": 21,
   "metadata": {},
   "outputs": [],
   "source": [
    "from sklearn.metrics import mean_squared_error\n",
    "\n",
    "rmse = mean_squared_error(test_full[600:], predicted_price)"
   ]
  },
  {
   "cell_type": "code",
   "execution_count": 22,
   "metadata": {},
   "outputs": [
    {
     "data": {
      "text/plain": [
       "7148481676.781877"
      ]
     },
     "execution_count": 22,
     "metadata": {},
     "output_type": "execute_result"
    }
   ],
   "source": [
    "rmse"
   ]
  },
  {
   "cell_type": "code",
   "execution_count": null,
   "metadata": {},
   "outputs": [],
   "source": []
  }
 ],
 "metadata": {
  "kernelspec": {
   "display_name": "Python 3",
   "language": "python",
   "name": "python3"
  },
  "language_info": {
   "codemirror_mode": {
    "name": "ipython",
    "version": 3
   },
   "file_extension": ".py",
   "mimetype": "text/x-python",
   "name": "python",
   "nbconvert_exporter": "python",
   "pygments_lexer": "ipython3",
   "version": "3.6.7"
  }
 },
 "nbformat": 4,
 "nbformat_minor": 2
}
